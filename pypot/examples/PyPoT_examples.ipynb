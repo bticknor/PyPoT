{
 "cells": [
  {
   "cell_type": "markdown",
   "id": "d4944883-fc78-4337-9ec5-9a3b2b71ee0e",
   "metadata": {},
   "source": [
    "# PyPoT Example Code\n",
    "\n",
    "This notebook includes example code for performing peaks-over-threshold analysis tasks using PyPoT."
   ]
  },
  {
   "cell_type": "markdown",
   "id": "db0486cd-e0b6-470b-bafc-0918e052ccd7",
   "metadata": {},
   "source": [
    "## 1a) simulate Generalized Pareto data and fit distribution parameters"
   ]
  },
  {
   "cell_type": "code",
   "execution_count": 1,
   "id": "8db4027f-583b-412d-9156-7d5d772dcd53",
   "metadata": {},
   "outputs": [],
   "source": [
    "import numpy as np\n",
    "import matplotlib.pyplot as plt\n",
    "from pypot.generalized_pareto import gp_inv_cdf, fit_GPD, gp_density, gp_neg_loglik, gp_neg_loglik_jacob"
   ]
  },
  {
   "cell_type": "code",
   "execution_count": 2,
   "id": "1310d66d-b742-4d84-b4cd-3f18d7651f07",
   "metadata": {},
   "outputs": [
    {
     "name": "stdout",
     "output_type": "stream",
     "text": [
      "maximum likelihood estimates of xi, sigma:\n",
      "[-0.20567194  0.7458885 ]\n"
     ]
    }
   ],
   "source": [
    "# true parameters\n",
    "XI = -0.20\n",
    "SIGMA = 0.75\n",
    "# number of simulations\n",
    "N_SIM = 10000\n",
    "\n",
    "u_vals = np.random.uniform(size=N_SIM)\n",
    "# probability integral transform data\n",
    "x_vals = gp_inv_cdf(u_vals, XI, SIGMA)\n",
    "\n",
    "# initial parameter guess\n",
    "XI_INIT = 1/8\n",
    "SIGMA_INIT = 1\n",
    "THETA_0 = (XI_INIT, SIGMA_INIT)\n",
    "\n",
    "# fit the distribution via MLE (minimizing negative log likelihood)\n",
    "mle = fit_GPD(x_vals, THETA_0, gp_neg_loglik, gp_neg_loglik_jacob)\n",
    "\n",
    "print(\"maximum likelihood estimates of xi, sigma:\")\n",
    "print(mle)"
   ]
  },
  {
   "cell_type": "code",
   "execution_count": 3,
   "id": "5daf8475-fbe1-474b-b77f-78e804823041",
   "metadata": {},
   "outputs": [
    {
     "data": {
      "image/png": "[encoded data removed]",
      "text/plain": [
       "<Figure size 640x480 with 1 Axes>"
      ]
     },
     "metadata": {},
     "output_type": "display_data"
    }
   ],
   "source": [
    "plt.hist(x_vals, density=True, label=\"observed values\", bins=20)\n",
    "\n",
    "# MLE ESTIMATE\n",
    "x_plot = np.linspace(0.1, 2, 100)\n",
    "y_plot = gp_density(x_plot, mle[0], mle[1])\n",
    "plt.plot(x_plot, y_plot, label=\"estimated density\")\n",
    "plt.ylabel(\"density\", fontsize=10)\n",
    "plt.legend()\n",
    "\n",
    "plt.show()"
   ]
  },
  {
   "cell_type": "markdown",
   "id": "b2c57a53-a9be-4833-be0c-a234a5311fc5",
   "metadata": {},
   "source": [
    "## 1b) compute confidence intervals for GP parameters"
   ]
  },
  {
   "cell_type": "code",
   "execution_count": 4,
   "id": "ebe7d590-3c57-4ae2-b9d9-41609f83c08d",
   "metadata": {},
   "outputs": [],
   "source": [
    "from pypot.generalized_pareto import gp_param_cov_matrix"
   ]
  },
  {
   "cell_type": "code",
   "execution_count": 5,
   "id": "d4d30127-1b73-4ba7-b68f-3d547480017a",
   "metadata": {},
   "outputs": [
    {
     "name": "stdout",
     "output_type": "stream",
     "text": [
      "confidence interval for xi:\n",
      "[-0.22485290926759946, -0.18649096622014047]\n",
      "confidence interval for sigma:\n",
      "[0.7274619094034324, 0.7643150859498286]\n"
     ]
    }
   ],
   "source": [
    "xi_hat = mle[0]\n",
    "sigma_hat = mle[1]\n",
    "\n",
    "# compute covariance matrix of estimators\n",
    "estimator_cov_mat = gp_param_cov_matrix(xi_hat, sigma_hat, N_SIM)\n",
    "\n",
    "confint_xi = [xi_hat - 1.96 * np.sqrt(estimator_cov_mat[0][0]), xi_hat + 1.96 * np.sqrt(estimator_cov_mat[0][0])]\n",
    "print(\"confidence interval for xi:\")\n",
    "print(confint_xi)\n",
    "\n",
    "confint_sigma = [sigma_hat - 1.96 * np.sqrt(estimator_cov_mat[1][1]), sigma_hat + 1.96 * np.sqrt(estimator_cov_mat[1][1])]\n",
    "print(\"confidence interval for sigma:\")\n",
    "print(confint_sigma)\n"
   ]
  },
  {
   "cell_type": "markdown",
   "id": "eebecbf5-9008-4267-9e4e-8ff67a6682b1",
   "metadata": {},
   "source": [
    "## 2a) load example time series dataset, and fit the GPD given a threshold u=3.5"
   ]
  },
  {
   "cell_type": "code",
   "execution_count": 6,
   "id": "83c8573e-33f3-4383-97fe-51dfee496124",
   "metadata": {},
   "outputs": [
    {
     "data": {
      "text/plain": [
       "Datetime\n",
       "1942-01-01 01:00:00    2.088638\n",
       "1942-01-01 02:00:00    2.056474\n",
       "1942-01-01 03:00:00    2.063103\n",
       "1942-01-01 04:00:00    2.124239\n",
       "1942-01-01 05:00:00    2.170153\n",
       "Name: swell_height, dtype: float32"
      ]
     },
     "execution_count": 6,
     "metadata": {},
     "output_type": "execute_result"
    }
   ],
   "source": [
    "from pypot.utils import fetch_example_dataset\n",
    "\n",
    "series = fetch_example_dataset()\n",
    "series.head()"
   ]
  },
  {
   "cell_type": "code",
   "execution_count": 7,
   "id": "20d565cc-1b52-4739-9d24-ba0085296b5f",
   "metadata": {},
   "outputs": [],
   "source": [
    "from pypot.utils import get_extremes_peaks_over_threshold\n",
    "from pypot.generalized_pareto import gp_neg_loglik, gp_neg_loglik_jacob, fit_GPD\n",
    "from pypot.threshold_selection import log_interpolate_p\n"
   ]
  },
  {
   "cell_type": "code",
   "execution_count": 8,
   "id": "5df45fdd-e401-4497-9de8-07a87216adb8",
   "metadata": {},
   "outputs": [
    {
     "name": "stdout",
     "output_type": "stream",
     "text": [
      "mle for xi, sigma:\n",
      "[-0.0694401   0.70032931]\n"
     ]
    }
   ],
   "source": [
    "# initial point for optimizer\n",
    "XI_INIT = 1/5\n",
    "SIGMA_INIT = 1\n",
    "THETA_0 = (XI_INIT, SIGMA_INIT)\n",
    "\n",
    "# threshold\n",
    "u = 3.5\n",
    "# independence time delta\n",
    "r = \"72h\"\n",
    "\n",
    "extremes = get_extremes_peaks_over_threshold(\n",
    "    series,\n",
    "    u,\n",
    "    r\n",
    ")\n",
    "x_vals = extremes - u\n",
    "\n",
    "# fit GPD\n",
    "mle = fit_GPD(\n",
    "    x_vals,\n",
    "    THETA_0,\n",
    "    gp_neg_loglik,\n",
    "    gp_neg_loglik_jacob  # use analytical Jacobian of negative log likelihood\n",
    ")\n",
    "xi_hat = mle[0]\n",
    "sigma_hat = mle[1]\n",
    "\n",
    "print(\"mle for xi, sigma:\")\n",
    "print(mle)"
   ]
  },
  {
   "cell_type": "markdown",
   "id": "5b7cf735-39b1-4804-baf4-784c8b1880d1",
   "metadata": {},
   "source": [
    "## 2b) compute 50 year return level and variance"
   ]
  },
  {
   "cell_type": "code",
   "execution_count": 9,
   "id": "cf2d1a72-6e71-4d21-bca6-818732055c88",
   "metadata": {},
   "outputs": [
    {
     "name": "stdout",
     "output_type": "stream",
     "text": [
      "mle for lambda:\n",
      "9.551684766061097\n"
     ]
    }
   ],
   "source": [
    "from pypot.return_levels import lambda_hat, r_hat, var_hat_r_l\n",
    "from pypot.utils import years_span_series\n",
    "\n",
    "# Poisson process lambda MLE\n",
    "lambda_hat = lambda_hat(extremes)\n",
    "print(\"mle for lambda:\")\n",
    "print(lambda_hat)"
   ]
  },
  {
   "cell_type": "code",
   "execution_count": 10,
   "id": "597867c9-0f46-48f9-b3a0-7367b331e6c3",
   "metadata": {},
   "outputs": [
    {
     "name": "stdout",
     "output_type": "stream",
     "text": [
      "estimated 50 year return value:\n",
      "7.0139645276448\n"
     ]
    }
   ],
   "source": [
    "L = 50\n",
    "\n",
    "r_hat_50 = r_hat(L, lambda_hat, xi_hat, sigma_hat)\n",
    "print(\"estimated 50 year return value:\")\n",
    "# add back the subtracted threshold\n",
    "print(r_hat_50 + u)"
   ]
  },
  {
   "cell_type": "code",
   "execution_count": 11,
   "id": "d30f106a-204f-4ab8-a9c9-c70a648a8050",
   "metadata": {},
   "outputs": [
    {
     "name": "stdout",
     "output_type": "stream",
     "text": [
      "sample size:\n",
      "773\n",
      "years span:\n",
      "80.99657768651609\n",
      "50 year return variance:\n",
      "[[0.07529988]]\n",
      "50 year standard deviation\n",
      "[[0.27440823]]\n",
      "50 year return value:\n",
      "7.0139645276448\n",
      "90% CI:\n",
      "[[6.56256299]]\n",
      "[[7.46536606]]\n"
     ]
    }
   ],
   "source": [
    "# sample size\n",
    "n = len(extremes)\n",
    "# time spanned by the series in years\n",
    "t = years_span_series(series)\n",
    "print(\"sample size:\")\n",
    "print(n)\n",
    "print(\"years span:\")\n",
    "print(t)\n",
    "\n",
    "# asymptotic variance of 50 year return value\n",
    "var_L = var_hat_r_l(lambda_hat, xi_hat, sigma_hat, n, t, L)\n",
    "\n",
    "sd = np.sqrt(var_L)\n",
    "\n",
    "print(\"50 year return variance:\")\n",
    "print(var_L)\n",
    "print(\"50 year standard deviation\")\n",
    "print(sd)\n",
    "\n",
    "# compute 90% confidence interval\n",
    "Z_SCORE = 1.645\n",
    "\n",
    "lower_bound = u + r_hat_50 -  Z_SCORE * sd\n",
    "upper_bound = u + r_hat_50 + Z_SCORE * sd\n",
    "\n",
    "print(\"50 year return value:\")\n",
    "print(u + r_hat_50)\n",
    "\n",
    "print(\"90% CI:\")\n",
    "print(lower_bound)\n",
    "print(upper_bound)\n"
   ]
  },
  {
   "cell_type": "markdown",
   "id": "d1f0108c-93c0-4a36-b982-1cb99ed145b9",
   "metadata": {},
   "source": [
    "## 2c) compute Anderson-Darling statistic and approximate p-value"
   ]
  },
  {
   "cell_type": "code",
   "execution_count": 12,
   "id": "77a3c079-0e1f-446f-8d0e-b0b246b4434b",
   "metadata": {},
   "outputs": [],
   "source": [
    "from pypot.generalized_pareto import anderson_darling_statistic\n",
    "from pypot.threshold_selection import AD_approx_p_val\n",
    "from pypot.utils import fetch_adquantiles_table\n"
   ]
  },
  {
   "cell_type": "code",
   "execution_count": 13,
   "id": "c9895887-9e4e-462a-be84-946389fc96ad",
   "metadata": {},
   "outputs": [
    {
     "data": {
      "text/html": [
       "<div>\n",
       "<style scoped>\n",
       "    .dataframe tbody tr th:only-of-type {\n",
       "        vertical-align: middle;\n",
       "    }\n",
       "\n",
       "    .dataframe tbody tr th {\n",
       "        vertical-align: top;\n",
       "    }\n",
       "\n",
       "    .dataframe thead th {\n",
       "        text-align: right;\n",
       "    }\n",
       "</style>\n",
       "<table border=\"1\" class=\"dataframe\">\n",
       "  <thead>\n",
       "    <tr style=\"text-align: right;\">\n",
       "      <th></th>\n",
       "      <th>0.999</th>\n",
       "      <th>0.998</th>\n",
       "      <th>0.997</th>\n",
       "      <th>0.996</th>\n",
       "      <th>0.995</th>\n",
       "      <th>0.994</th>\n",
       "      <th>0.993</th>\n",
       "      <th>0.992</th>\n",
       "      <th>0.991</th>\n",
       "      <th>0.990</th>\n",
       "      <th>...</th>\n",
       "      <th>0.010</th>\n",
       "      <th>0.009</th>\n",
       "      <th>0.008</th>\n",
       "      <th>0.007</th>\n",
       "      <th>0.006</th>\n",
       "      <th>0.005</th>\n",
       "      <th>0.004</th>\n",
       "      <th>0.003</th>\n",
       "      <th>0.002</th>\n",
       "      <th>0.001</th>\n",
       "    </tr>\n",
       "  </thead>\n",
       "  <tbody>\n",
       "    <tr>\n",
       "      <th>-0.50</th>\n",
       "      <td>0.121223</td>\n",
       "      <td>0.130634</td>\n",
       "      <td>0.136941</td>\n",
       "      <td>0.141757</td>\n",
       "      <td>0.145754</td>\n",
       "      <td>0.149320</td>\n",
       "      <td>0.152513</td>\n",
       "      <td>0.155372</td>\n",
       "      <td>0.158035</td>\n",
       "      <td>0.160396</td>\n",
       "      <td>...</td>\n",
       "      <td>1.815296</td>\n",
       "      <td>1.855035</td>\n",
       "      <td>1.900066</td>\n",
       "      <td>1.951018</td>\n",
       "      <td>2.009175</td>\n",
       "      <td>2.078208</td>\n",
       "      <td>2.162929</td>\n",
       "      <td>2.274349</td>\n",
       "      <td>2.428954</td>\n",
       "      <td>2.687376</td>\n",
       "    </tr>\n",
       "    <tr>\n",
       "      <th>-0.49</th>\n",
       "      <td>0.120954</td>\n",
       "      <td>0.129964</td>\n",
       "      <td>0.136542</td>\n",
       "      <td>0.141501</td>\n",
       "      <td>0.145458</td>\n",
       "      <td>0.149032</td>\n",
       "      <td>0.152169</td>\n",
       "      <td>0.155076</td>\n",
       "      <td>0.157542</td>\n",
       "      <td>0.160011</td>\n",
       "      <td>...</td>\n",
       "      <td>1.802558</td>\n",
       "      <td>1.840593</td>\n",
       "      <td>1.883786</td>\n",
       "      <td>1.934147</td>\n",
       "      <td>1.991703</td>\n",
       "      <td>2.060843</td>\n",
       "      <td>2.141207</td>\n",
       "      <td>2.252637</td>\n",
       "      <td>2.403623</td>\n",
       "      <td>2.668255</td>\n",
       "    </tr>\n",
       "    <tr>\n",
       "      <th>-0.48</th>\n",
       "      <td>0.120897</td>\n",
       "      <td>0.129783</td>\n",
       "      <td>0.136012</td>\n",
       "      <td>0.141052</td>\n",
       "      <td>0.145088</td>\n",
       "      <td>0.148721</td>\n",
       "      <td>0.151819</td>\n",
       "      <td>0.154560</td>\n",
       "      <td>0.157240</td>\n",
       "      <td>0.159648</td>\n",
       "      <td>...</td>\n",
       "      <td>1.805332</td>\n",
       "      <td>1.844551</td>\n",
       "      <td>1.888966</td>\n",
       "      <td>1.939759</td>\n",
       "      <td>1.998315</td>\n",
       "      <td>2.065278</td>\n",
       "      <td>2.150447</td>\n",
       "      <td>2.259846</td>\n",
       "      <td>2.415750</td>\n",
       "      <td>2.684926</td>\n",
       "    </tr>\n",
       "    <tr>\n",
       "      <th>-0.47</th>\n",
       "      <td>0.120957</td>\n",
       "      <td>0.130218</td>\n",
       "      <td>0.136572</td>\n",
       "      <td>0.141155</td>\n",
       "      <td>0.145169</td>\n",
       "      <td>0.148566</td>\n",
       "      <td>0.151690</td>\n",
       "      <td>0.154501</td>\n",
       "      <td>0.157026</td>\n",
       "      <td>0.159378</td>\n",
       "      <td>...</td>\n",
       "      <td>1.794760</td>\n",
       "      <td>1.832802</td>\n",
       "      <td>1.874531</td>\n",
       "      <td>1.923271</td>\n",
       "      <td>1.979416</td>\n",
       "      <td>2.046796</td>\n",
       "      <td>2.132830</td>\n",
       "      <td>2.242718</td>\n",
       "      <td>2.391125</td>\n",
       "      <td>2.656508</td>\n",
       "    </tr>\n",
       "    <tr>\n",
       "      <th>-0.46</th>\n",
       "      <td>0.120667</td>\n",
       "      <td>0.129645</td>\n",
       "      <td>0.135927</td>\n",
       "      <td>0.140742</td>\n",
       "      <td>0.144719</td>\n",
       "      <td>0.148231</td>\n",
       "      <td>0.151399</td>\n",
       "      <td>0.154090</td>\n",
       "      <td>0.156632</td>\n",
       "      <td>0.159051</td>\n",
       "      <td>...</td>\n",
       "      <td>1.780905</td>\n",
       "      <td>1.819220</td>\n",
       "      <td>1.862746</td>\n",
       "      <td>1.912246</td>\n",
       "      <td>1.969153</td>\n",
       "      <td>2.036977</td>\n",
       "      <td>2.119286</td>\n",
       "      <td>2.226101</td>\n",
       "      <td>2.383369</td>\n",
       "      <td>2.645597</td>\n",
       "    </tr>\n",
       "  </tbody>\n",
       "</table>\n",
       "<p>5 rows × 999 columns</p>\n",
       "</div>"
      ],
      "text/plain": [
       "          0.999     0.998     0.997     0.996     0.995     0.994     0.993  \\\n",
       "-0.50  0.121223  0.130634  0.136941  0.141757  0.145754  0.149320  0.152513   \n",
       "-0.49  0.120954  0.129964  0.136542  0.141501  0.145458  0.149032  0.152169   \n",
       "-0.48  0.120897  0.129783  0.136012  0.141052  0.145088  0.148721  0.151819   \n",
       "-0.47  0.120957  0.130218  0.136572  0.141155  0.145169  0.148566  0.151690   \n",
       "-0.46  0.120667  0.129645  0.135927  0.140742  0.144719  0.148231  0.151399   \n",
       "\n",
       "          0.992     0.991     0.990  ...     0.010     0.009     0.008  \\\n",
       "-0.50  0.155372  0.158035  0.160396  ...  1.815296  1.855035  1.900066   \n",
       "-0.49  0.155076  0.157542  0.160011  ...  1.802558  1.840593  1.883786   \n",
       "-0.48  0.154560  0.157240  0.159648  ...  1.805332  1.844551  1.888966   \n",
       "-0.47  0.154501  0.157026  0.159378  ...  1.794760  1.832802  1.874531   \n",
       "-0.46  0.154090  0.156632  0.159051  ...  1.780905  1.819220  1.862746   \n",
       "\n",
       "          0.007     0.006     0.005     0.004     0.003     0.002     0.001  \n",
       "-0.50  1.951018  2.009175  2.078208  2.162929  2.274349  2.428954  2.687376  \n",
       "-0.49  1.934147  1.991703  2.060843  2.141207  2.252637  2.403623  2.668255  \n",
       "-0.48  1.939759  1.998315  2.065278  2.150447  2.259846  2.415750  2.684926  \n",
       "-0.47  1.923271  1.979416  2.046796  2.132830  2.242718  2.391125  2.656508  \n",
       "-0.46  1.912246  1.969153  2.036977  2.119286  2.226101  2.383369  2.645597  \n",
       "\n",
       "[5 rows x 999 columns]"
      ]
     },
     "execution_count": 13,
     "metadata": {},
     "output_type": "execute_result"
    }
   ],
   "source": [
    "adq_frame = fetch_adquantiles_table()\n",
    "\n",
    "adq_frame.head()"
   ]
  },
  {
   "cell_type": "code",
   "execution_count": 14,
   "id": "400b269d-b405-4bda-84f0-1c9b29fcc33f",
   "metadata": {},
   "outputs": [
    {
     "name": "stdout",
     "output_type": "stream",
     "text": [
      "anderson darling statistic:\n",
      "0.3266725733428757\n",
      "p-value for AD test:\n",
      "0.6829600832348922\n"
     ]
    }
   ],
   "source": [
    "ad_stat = anderson_darling_statistic(x_vals, xi_hat, sigma_hat)\n",
    "print(\"anderson darling statistic:\")\n",
    "print(ad_stat)\n",
    "\n",
    "p = AD_approx_p_val(ad_stat, xi_hat, adq_frame)\n",
    "\n",
    "print(\"p-value for AD test:\")\n",
    "print(p)"
   ]
  },
  {
   "cell_type": "markdown",
   "id": "c72c6d7c-a6b5-4dba-918d-787bce1ad882",
   "metadata": {},
   "source": [
    "## 3) automated threshold selection using ForwardStop algorithm TODO"
   ]
  },
  {
   "cell_type": "code",
   "execution_count": 15,
   "id": "2aaa4e89-afb3-4db0-9a28-a10eebd10987",
   "metadata": {},
   "outputs": [],
   "source": [
    "from pypot.threshold_selection import forward_stop_u_selection\n"
   ]
  },
  {
   "cell_type": "code",
   "execution_count": 16,
   "id": "55ab9e6f-21d6-4e9f-a8d0-83c71a9faa45",
   "metadata": {},
   "outputs": [
    {
     "data": {
      "text/plain": [
       "(2.6, array([-0.14112964,  0.96260427]))"
      ]
     },
     "execution_count": 16,
     "metadata": {},
     "output_type": "execute_result"
    }
   ],
   "source": [
    "forward_stop_u_selection(series, 2, 6, 41, \"72h\", alpha=0.05)"
   ]
  },
  {
   "cell_type": "code",
   "execution_count": null,
   "id": "3f601a89-6d5c-49d3-a991-26aa8431ebae",
   "metadata": {},
   "outputs": [],
   "source": []
  }
 ],
 "metadata": {
  "kernelspec": {
   "display_name": "Python 3 (ipykernel)",
   "language": "python",
   "name": "python3"
  },
  "language_info": {
   "codemirror_mode": {
    "name": "ipython",
    "version": 3
   },
   "file_extension": ".py",
   "mimetype": "text/x-python",
   "name": "python",
   "nbconvert_exporter": "python",
   "pygments_lexer": "ipython3",
   "version": "3.10.12"
  }
 },
 "nbformat": 4,
 "nbformat_minor": 5
}
